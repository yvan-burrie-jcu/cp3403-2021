{
 "cells": [
  {
   "cell_type": "markdown",
   "metadata": {},
   "source": [
    "# JCU 2021 SP1 CP3403 Assignment\n",
    "\n",
    "By Yvan Burrie, Kate Quinsee, and Sadman Shakib."
   ]
  },
  {
   "cell_type": "markdown",
   "metadata": {},
   "source": [
    "## Introduction\n",
    "\n",
    "This dataset was retrieved from an English translation of a dataset from the Israeli government which can be found her: https://github.com/nshomron/covidpred."
   ]
  },
  {
   "cell_type": "markdown",
   "metadata": {},
   "source": [
    "## Preprocessing"
   ]
  },
  {
   "cell_type": "code",
   "execution_count": null,
   "metadata": {},
   "outputs": [],
   "source": [
    "import os.path\n",
    "import zipfile\n",
    "import pandas as pd\n",
    "import numpy as np"
   ]
  },
  {
   "cell_type": "code",
   "execution_count": null,
   "metadata": {},
   "outputs": [],
   "source": [
    "csv_file = 'corona_tested_individuals_ver_0083.english.csv'\n",
    "\n",
    "if not os.path.isfile(csv_file):\n",
    "    with zipfile.ZipFile(csv_file + '.zip', 'r') as ref:\n",
    "        ref.extractall()\n",
    "\n",
    "data = pd.read_csv(csv_file, low_memory=False)\n",
    "\n",
    "display(data)"
   ]
  },
  {
   "cell_type": "markdown",
   "metadata": {},
   "source": [
    "We must check the the values of some columns."
   ]
  },
  {
   "cell_type": "code",
   "execution_count": null,
   "metadata": {},
   "outputs": [],
   "source": [
    "print(data['cough'].unique())\n",
    "print(data['fever'].unique())\n",
    "print(data['sore_throat'].unique())\n",
    "print(data['shortness_of_breath'].unique())\n",
    "print(data['head_ache'].unique())"
   ]
  },
  {
   "cell_type": "markdown",
   "metadata": {},
   "source": [
    "We will convert these to nominal values to allow association rules mining."
   ]
  },
  {
   "cell_type": "code",
   "execution_count": null,
   "metadata": {},
   "outputs": [],
   "source": [
    "find = [0, 1]\n",
    "replace = ['N', 'Y']\n",
    "\n",
    "data['cough'].replace(find, replace, inplace=True)\n",
    "data['fever'].replace(find, replace, inplace=True)\n",
    "data['sore_throat'].replace(find, replace, inplace=True)\n",
    "data['shortness_of_breath'].replace(find, replace, inplace=True)\n",
    "data['head_ache'].replace(find, replace, inplace=True)"
   ]
  },
  {
   "cell_type": "markdown",
   "metadata": {},
   "source": [
    "As we shall see, the values should now be fixed."
   ]
  },
  {
   "cell_type": "code",
   "execution_count": null,
   "metadata": {},
   "outputs": [],
   "source": [
    "print(data['cough'].value_counts())\n",
    "print(data['fever'].value_counts())\n",
    "print(data['sore_throat'].value_counts())\n",
    "print(data['shortness_of_breath'].value_counts())\n",
    "print(data['head_ache'].value_counts())"
   ]
  },
  {
   "cell_type": "markdown",
   "metadata": {},
   "source": [
    "We will now check other values."
   ]
  },
  {
   "cell_type": "code",
   "execution_count": null,
   "metadata": {},
   "outputs": [],
   "source": [
    "print(data['corona_result'].unique())\n",
    "print(data['age_60_and_above'].unique())\n",
    "print(data['gender'].unique())\n",
    "print(data['test_indication'].unique())"
   ]
  },
  {
   "cell_type": "markdown",
   "metadata": {},
   "source": [
    "Although they are nominal values, let us simplify them to reduce memory."
   ]
  },
  {
   "cell_type": "code",
   "execution_count": null,
   "metadata": {},
   "outputs": [],
   "source": [
    "data['corona_result'].replace(['negative', 'positive', 'other'], ['N', 'P', 'O'], inplace=True)\n",
    "data['age_60_and_above'].replace(['No', 'Yes', np.nan], ['N', 'Y', 'O'], inplace=True)\n",
    "data['gender'].replace(['female', 'male', 'None'], ['M', 'F', 'O'], inplace=True)\n",
    "data['test_indication'].replace(['Other', 'Abroad', 'Contact with confirmed'], ['O', 'A', 'C'], inplace=True)"
   ]
  },
  {
   "cell_type": "markdown",
   "metadata": {},
   "source": [
    "Let us now export the preprocessed data."
   ]
  },
  {
   "cell_type": "code",
   "execution_count": null,
   "metadata": {},
   "outputs": [],
   "source": [
    "# The test date column is not needed.\n",
    "data = data.drop(columns=['test_date'])\n",
    "\n",
    "# Only use positive corona results.\n",
    "# data = data.loc[data['corona_result'] == 'P']\n",
    "\n",
    "# Generate CSV file from dataframe.\n",
    "data.to_csv(path_or_buf='preprocessed.csv', index=False)"
   ]
  }
 ],
 "metadata": {
  "kernelspec": {
   "display_name": "Python 3",
   "language": "python",
   "name": "python3"
  },
  "language_info": {
   "codemirror_mode": {
    "name": "ipython",
    "version": 3
   },
   "file_extension": ".py",
   "mimetype": "text/x-python",
   "name": "python",
   "nbconvert_exporter": "python",
   "pygments_lexer": "ipython3",
   "version": "3.8.5"
  }
 },
 "nbformat": 4,
 "nbformat_minor": 4
}
